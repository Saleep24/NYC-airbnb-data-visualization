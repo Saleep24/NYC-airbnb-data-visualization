{
 "cells": [
  {
   "cell_type": "markdown",
   "id": "36346cbc",
   "metadata": {
    "papermill": {
     "duration": 0.008998,
     "end_time": "2024-06-25T19:18:32.117957",
     "exception": false,
     "start_time": "2024-06-25T19:18:32.108959",
     "status": "completed"
    },
    "tags": []
   },
   "source": [
    "# Basic Cleaning"
   ]
  },
  {
   "cell_type": "code",
   "execution_count": null,
   "id": "3d3f4a66",
   "metadata": {
    "execution": {
     "iopub.execute_input": "2024-06-25T19:18:32.136899Z",
     "iopub.status.busy": "2024-06-25T19:18:32.136479Z",
     "iopub.status.idle": "2024-06-25T19:18:33.086898Z",
     "shell.execute_reply": "2024-06-25T19:18:33.085717Z"
    },
    "papermill": {
     "duration": 0.963181,
     "end_time": "2024-06-25T19:18:33.089766",
     "exception": false,
     "start_time": "2024-06-25T19:18:32.126585",
     "status": "completed"
    },
    "tags": []
   },
   "outputs": [
    {
     "ename": "",
     "evalue": "",
     "output_type": "error",
     "traceback": [
      "\u001b[1;31mFailed to start the Kernel. \n",
      "Traceback (most recent call last):\n",
      "  File \"/Library/Frameworks/Python.framework/Versions/3.10/lib/python3.10/site-packages/notebook/traittypes.py\", line 235, in _resolve_classes\n",
      "    klass = self._resolve_string(klass)\n",
      "  File \"/Library/Frameworks/Python.framework/Versions/3.10/lib/python3.10/site-packages/traitlets/traitlets.py\", line 2028, in _resolve_string\n",
      "    return import_item(string)\n",
      "  File \"/Library/Frameworks/Python.framework/Versions/3.10/lib/python3.10/site-packages/traitlets/utils/importstring.py\", line 31, in import_item\n",
      "    module = __import__(package, fromlist=[obj])\n",
      "ModuleNotFoundError: No module named 'jupyter_server.contents'\n",
      "\n",
      "During handling of the above exception, another exception occurred:\n",
      "\n",
      "Traceback (most recent call last):\n",
      "  File \"/Users/saleepshrestha/.vscode/extensions/ms-toolsai.jupyter-2022.4.1021342353/pythonFiles/vscode_datascience_helpers/daemon/daemon_python.py\", line 54, in _decorator\n",
      "    return func(self, *args, **kwargs)\n",
      "  File \"/Users/saleepshrestha/.vscode/extensions/ms-toolsai.jupyter-2022.4.1021342353/pythonFiles/vscode_datascience_helpers/jupyter_daemon.py\", line 111, in m_exec_module_observable\n",
      "    self._start_notebook(args, cwd, env)\n",
      "  File \"/Users/saleepshrestha/.vscode/extensions/ms-toolsai.jupyter-2022.4.1021342353/pythonFiles/vscode_datascience_helpers/jupyter_daemon.py\", line 168, in _start_notebook\n",
      "    app.launch_new_instance()\n",
      "  File \"/Library/Frameworks/Python.framework/Versions/3.10/lib/python3.10/site-packages/jupyter_core/application.py\", line 280, in launch_instance\n",
      "    super().launch_instance(argv=argv, **kwargs)\n",
      "  File \"/Library/Frameworks/Python.framework/Versions/3.10/lib/python3.10/site-packages/traitlets/config/application.py\", line 1051, in launch_instance\n",
      "    app = cls.instance(**kwargs)\n",
      "  File \"/Library/Frameworks/Python.framework/Versions/3.10/lib/python3.10/site-packages/traitlets/config/configurable.py\", line 581, in instance\n",
      "    inst = cls(*args, **kwargs)\n",
      "  File \"/Library/Frameworks/Python.framework/Versions/3.10/lib/python3.10/site-packages/traitlets/traitlets.py\", line 1313, in __new__\n",
      "    inst.setup_instance(*args, **kwargs)\n",
      "  File \"/Library/Frameworks/Python.framework/Versions/3.10/lib/python3.10/site-packages/traitlets/traitlets.py\", line 1356, in setup_instance\n",
      "    super(HasTraits, self).setup_instance(*args, **kwargs)\n",
      "  File \"/Library/Frameworks/Python.framework/Versions/3.10/lib/python3.10/site-packages/traitlets/traitlets.py\", line 1332, in setup_instance\n",
      "    init(self)\n",
      "  File \"/Library/Frameworks/Python.framework/Versions/3.10/lib/python3.10/site-packages/notebook/traittypes.py\", line 226, in instance_init\n",
      "    self._resolve_classes()\n",
      "  File \"/Library/Frameworks/Python.framework/Versions/3.10/lib/python3.10/site-packages/notebook/traittypes.py\", line 238, in _resolve_classes\n",
      "    warn(f\"{klass} is not importable. Is it installed?\", ImportWarning)\n",
      "TypeError: warn() missing 1 required keyword-only argument: 'stacklevel'\n",
      "\n",
      "Failed to run jupyter as observable with args notebook --no-browser --notebook-dir=\"/Users/saleepshrestha/Downloads\" --config=/var/folders/0q/g7b8r2b12514sljdzp3jtfvc0000gn/T/f0802fa1-4198-4fcf-9869-986ae572e223/jupyter_notebook_config.py --NotebookApp.iopub_data_rate_limit=10000000000.0. \n",
      "View Jupyter <a href='command:jupyter.viewOutput'>log</a> for further details."
     ]
    }
   ],
   "source": [
    "import pandas as pd"
   ]
  },
  {
   "cell_type": "code",
   "execution_count": 2,
   "id": "79f4033f",
   "metadata": {
    "execution": {
     "iopub.execute_input": "2024-06-25T19:18:33.109014Z",
     "iopub.status.busy": "2024-06-25T19:18:33.108455Z",
     "iopub.status.idle": "2024-06-25T19:18:33.481814Z",
     "shell.execute_reply": "2024-06-25T19:18:33.480732Z"
    },
    "papermill": {
     "duration": 0.386206,
     "end_time": "2024-06-25T19:18:33.484686",
     "exception": false,
     "start_time": "2024-06-25T19:18:33.098480",
     "status": "completed"
    },
    "tags": []
   },
   "outputs": [],
   "source": [
    "df = pd.read_csv(\"/kaggle/input/new-york-city-airbnb-open-data/AB_NYC_2019.csv\")"
   ]
  },
  {
   "cell_type": "code",
   "execution_count": 3,
   "id": "2018874d",
   "metadata": {
    "execution": {
     "iopub.execute_input": "2024-06-25T19:18:33.503954Z",
     "iopub.status.busy": "2024-06-25T19:18:33.503531Z",
     "iopub.status.idle": "2024-06-25T19:18:33.537891Z",
     "shell.execute_reply": "2024-06-25T19:18:33.536398Z"
    },
    "papermill": {
     "duration": 0.047489,
     "end_time": "2024-06-25T19:18:33.540911",
     "exception": false,
     "start_time": "2024-06-25T19:18:33.493422",
     "status": "completed"
    },
    "tags": []
   },
   "outputs": [
    {
     "data": {
      "text/html": [
       "<div>\n",
       "<style scoped>\n",
       "    .dataframe tbody tr th:only-of-type {\n",
       "        vertical-align: middle;\n",
       "    }\n",
       "\n",
       "    .dataframe tbody tr th {\n",
       "        vertical-align: top;\n",
       "    }\n",
       "\n",
       "    .dataframe thead th {\n",
       "        text-align: right;\n",
       "    }\n",
       "</style>\n",
       "<table border=\"1\" class=\"dataframe\">\n",
       "  <thead>\n",
       "    <tr style=\"text-align: right;\">\n",
       "      <th></th>\n",
       "      <th>id</th>\n",
       "      <th>name</th>\n",
       "      <th>host_id</th>\n",
       "      <th>host_name</th>\n",
       "      <th>neighbourhood_group</th>\n",
       "      <th>neighbourhood</th>\n",
       "      <th>latitude</th>\n",
       "      <th>longitude</th>\n",
       "      <th>room_type</th>\n",
       "      <th>price</th>\n",
       "      <th>minimum_nights</th>\n",
       "      <th>number_of_reviews</th>\n",
       "      <th>last_review</th>\n",
       "      <th>reviews_per_month</th>\n",
       "      <th>calculated_host_listings_count</th>\n",
       "      <th>availability_365</th>\n",
       "    </tr>\n",
       "  </thead>\n",
       "  <tbody>\n",
       "    <tr>\n",
       "      <th>0</th>\n",
       "      <td>2539</td>\n",
       "      <td>Clean &amp; quiet apt home by the park</td>\n",
       "      <td>2787</td>\n",
       "      <td>John</td>\n",
       "      <td>Brooklyn</td>\n",
       "      <td>Kensington</td>\n",
       "      <td>40.64749</td>\n",
       "      <td>-73.97237</td>\n",
       "      <td>Private room</td>\n",
       "      <td>149</td>\n",
       "      <td>1</td>\n",
       "      <td>9</td>\n",
       "      <td>2018-10-19</td>\n",
       "      <td>0.21</td>\n",
       "      <td>6</td>\n",
       "      <td>365</td>\n",
       "    </tr>\n",
       "    <tr>\n",
       "      <th>1</th>\n",
       "      <td>2595</td>\n",
       "      <td>Skylit Midtown Castle</td>\n",
       "      <td>2845</td>\n",
       "      <td>Jennifer</td>\n",
       "      <td>Manhattan</td>\n",
       "      <td>Midtown</td>\n",
       "      <td>40.75362</td>\n",
       "      <td>-73.98377</td>\n",
       "      <td>Entire home/apt</td>\n",
       "      <td>225</td>\n",
       "      <td>1</td>\n",
       "      <td>45</td>\n",
       "      <td>2019-05-21</td>\n",
       "      <td>0.38</td>\n",
       "      <td>2</td>\n",
       "      <td>355</td>\n",
       "    </tr>\n",
       "    <tr>\n",
       "      <th>2</th>\n",
       "      <td>3647</td>\n",
       "      <td>THE VILLAGE OF HARLEM....NEW YORK !</td>\n",
       "      <td>4632</td>\n",
       "      <td>Elisabeth</td>\n",
       "      <td>Manhattan</td>\n",
       "      <td>Harlem</td>\n",
       "      <td>40.80902</td>\n",
       "      <td>-73.94190</td>\n",
       "      <td>Private room</td>\n",
       "      <td>150</td>\n",
       "      <td>3</td>\n",
       "      <td>0</td>\n",
       "      <td>NaN</td>\n",
       "      <td>NaN</td>\n",
       "      <td>1</td>\n",
       "      <td>365</td>\n",
       "    </tr>\n",
       "    <tr>\n",
       "      <th>3</th>\n",
       "      <td>3831</td>\n",
       "      <td>Cozy Entire Floor of Brownstone</td>\n",
       "      <td>4869</td>\n",
       "      <td>LisaRoxanne</td>\n",
       "      <td>Brooklyn</td>\n",
       "      <td>Clinton Hill</td>\n",
       "      <td>40.68514</td>\n",
       "      <td>-73.95976</td>\n",
       "      <td>Entire home/apt</td>\n",
       "      <td>89</td>\n",
       "      <td>1</td>\n",
       "      <td>270</td>\n",
       "      <td>2019-07-05</td>\n",
       "      <td>4.64</td>\n",
       "      <td>1</td>\n",
       "      <td>194</td>\n",
       "    </tr>\n",
       "    <tr>\n",
       "      <th>4</th>\n",
       "      <td>5022</td>\n",
       "      <td>Entire Apt: Spacious Studio/Loft by central park</td>\n",
       "      <td>7192</td>\n",
       "      <td>Laura</td>\n",
       "      <td>Manhattan</td>\n",
       "      <td>East Harlem</td>\n",
       "      <td>40.79851</td>\n",
       "      <td>-73.94399</td>\n",
       "      <td>Entire home/apt</td>\n",
       "      <td>80</td>\n",
       "      <td>10</td>\n",
       "      <td>9</td>\n",
       "      <td>2018-11-19</td>\n",
       "      <td>0.10</td>\n",
       "      <td>1</td>\n",
       "      <td>0</td>\n",
       "    </tr>\n",
       "  </tbody>\n",
       "</table>\n",
       "</div>"
      ],
      "text/plain": [
       "     id                                              name  host_id  \\\n",
       "0  2539                Clean & quiet apt home by the park     2787   \n",
       "1  2595                             Skylit Midtown Castle     2845   \n",
       "2  3647               THE VILLAGE OF HARLEM....NEW YORK !     4632   \n",
       "3  3831                   Cozy Entire Floor of Brownstone     4869   \n",
       "4  5022  Entire Apt: Spacious Studio/Loft by central park     7192   \n",
       "\n",
       "     host_name neighbourhood_group neighbourhood  latitude  longitude  \\\n",
       "0         John            Brooklyn    Kensington  40.64749  -73.97237   \n",
       "1     Jennifer           Manhattan       Midtown  40.75362  -73.98377   \n",
       "2    Elisabeth           Manhattan        Harlem  40.80902  -73.94190   \n",
       "3  LisaRoxanne            Brooklyn  Clinton Hill  40.68514  -73.95976   \n",
       "4        Laura           Manhattan   East Harlem  40.79851  -73.94399   \n",
       "\n",
       "         room_type  price  minimum_nights  number_of_reviews last_review  \\\n",
       "0     Private room    149               1                  9  2018-10-19   \n",
       "1  Entire home/apt    225               1                 45  2019-05-21   \n",
       "2     Private room    150               3                  0         NaN   \n",
       "3  Entire home/apt     89               1                270  2019-07-05   \n",
       "4  Entire home/apt     80              10                  9  2018-11-19   \n",
       "\n",
       "   reviews_per_month  calculated_host_listings_count  availability_365  \n",
       "0               0.21                               6               365  \n",
       "1               0.38                               2               355  \n",
       "2                NaN                               1               365  \n",
       "3               4.64                               1               194  \n",
       "4               0.10                               1                 0  "
      ]
     },
     "execution_count": 3,
     "metadata": {},
     "output_type": "execute_result"
    }
   ],
   "source": [
    "df.head(5)"
   ]
  },
  {
   "cell_type": "code",
   "execution_count": 4,
   "id": "d4aefae3",
   "metadata": {
    "execution": {
     "iopub.execute_input": "2024-06-25T19:18:33.560975Z",
     "iopub.status.busy": "2024-06-25T19:18:33.560543Z",
     "iopub.status.idle": "2024-06-25T19:18:33.631871Z",
     "shell.execute_reply": "2024-06-25T19:18:33.630801Z"
    },
    "papermill": {
     "duration": 0.084364,
     "end_time": "2024-06-25T19:18:33.634466",
     "exception": false,
     "start_time": "2024-06-25T19:18:33.550102",
     "status": "completed"
    },
    "tags": []
   },
   "outputs": [
    {
     "data": {
      "text/plain": [
       "id                                48895\n",
       "name                              47905\n",
       "host_id                           37457\n",
       "host_name                         11452\n",
       "neighbourhood_group                   5\n",
       "neighbourhood                       221\n",
       "latitude                          19048\n",
       "longitude                         14718\n",
       "room_type                             3\n",
       "price                               674\n",
       "minimum_nights                      109\n",
       "number_of_reviews                   394\n",
       "last_review                        1764\n",
       "reviews_per_month                   937\n",
       "calculated_host_listings_count       47\n",
       "availability_365                    366\n",
       "dtype: int64"
      ]
     },
     "execution_count": 4,
     "metadata": {},
     "output_type": "execute_result"
    }
   ],
   "source": [
    "df.nunique()"
   ]
  },
  {
   "cell_type": "code",
   "execution_count": 5,
   "id": "bd8092d9",
   "metadata": {
    "execution": {
     "iopub.execute_input": "2024-06-25T19:18:33.654522Z",
     "iopub.status.busy": "2024-06-25T19:18:33.654101Z",
     "iopub.status.idle": "2024-06-25T19:18:33.697354Z",
     "shell.execute_reply": "2024-06-25T19:18:33.696183Z"
    },
    "papermill": {
     "duration": 0.056446,
     "end_time": "2024-06-25T19:18:33.700030",
     "exception": false,
     "start_time": "2024-06-25T19:18:33.643584",
     "status": "completed"
    },
    "tags": []
   },
   "outputs": [
    {
     "data": {
      "text/plain": [
       "id                                    0\n",
       "name                                 16\n",
       "host_id                               0\n",
       "host_name                            21\n",
       "neighbourhood_group                   0\n",
       "neighbourhood                         0\n",
       "latitude                              0\n",
       "longitude                             0\n",
       "room_type                             0\n",
       "price                                 0\n",
       "minimum_nights                        0\n",
       "number_of_reviews                     0\n",
       "last_review                       10052\n",
       "reviews_per_month                 10052\n",
       "calculated_host_listings_count        0\n",
       "availability_365                      0\n",
       "dtype: int64"
      ]
     },
     "execution_count": 5,
     "metadata": {},
     "output_type": "execute_result"
    }
   ],
   "source": [
    "df.isnull().sum()"
   ]
  },
  {
   "cell_type": "code",
   "execution_count": 6,
   "id": "e55ac647",
   "metadata": {
    "execution": {
     "iopub.execute_input": "2024-06-25T19:18:33.720472Z",
     "iopub.status.busy": "2024-06-25T19:18:33.720059Z",
     "iopub.status.idle": "2024-06-25T19:18:33.735578Z",
     "shell.execute_reply": "2024-06-25T19:18:33.734474Z"
    },
    "papermill": {
     "duration": 0.029032,
     "end_time": "2024-06-25T19:18:33.738353",
     "exception": false,
     "start_time": "2024-06-25T19:18:33.709321",
     "status": "completed"
    },
    "tags": []
   },
   "outputs": [],
   "source": [
    "df = df.drop(['last_review', 'reviews_per_month'], axis = 1)"
   ]
  },
  {
   "cell_type": "code",
   "execution_count": 7,
   "id": "13a2e481",
   "metadata": {
    "execution": {
     "iopub.execute_input": "2024-06-25T19:18:33.758784Z",
     "iopub.status.busy": "2024-06-25T19:18:33.758356Z",
     "iopub.status.idle": "2024-06-25T19:18:33.767222Z",
     "shell.execute_reply": "2024-06-25T19:18:33.766019Z"
    },
    "papermill": {
     "duration": 0.022156,
     "end_time": "2024-06-25T19:18:33.769864",
     "exception": false,
     "start_time": "2024-06-25T19:18:33.747708",
     "status": "completed"
    },
    "tags": []
   },
   "outputs": [],
   "source": [
    "df = df.drop(['id', 'name', 'host_id', 'host_name', 'neighbourhood', 'longitude', 'latitude'], axis = 1)"
   ]
  },
  {
   "cell_type": "code",
   "execution_count": 8,
   "id": "3fcc9731",
   "metadata": {
    "execution": {
     "iopub.execute_input": "2024-06-25T19:18:33.790403Z",
     "iopub.status.busy": "2024-06-25T19:18:33.790005Z",
     "iopub.status.idle": "2024-06-25T19:18:33.797856Z",
     "shell.execute_reply": "2024-06-25T19:18:33.796670Z"
    },
    "papermill": {
     "duration": 0.021208,
     "end_time": "2024-06-25T19:18:33.800547",
     "exception": false,
     "start_time": "2024-06-25T19:18:33.779339",
     "status": "completed"
    },
    "tags": []
   },
   "outputs": [],
   "source": [
    "df = df.drop(['number_of_reviews', 'calculated_host_listings_count'], axis = 1)"
   ]
  },
  {
   "cell_type": "code",
   "execution_count": 9,
   "id": "cdcc5e85",
   "metadata": {
    "execution": {
     "iopub.execute_input": "2024-06-25T19:18:33.821370Z",
     "iopub.status.busy": "2024-06-25T19:18:33.820999Z",
     "iopub.status.idle": "2024-06-25T19:18:33.833485Z",
     "shell.execute_reply": "2024-06-25T19:18:33.832442Z"
    },
    "papermill": {
     "duration": 0.025513,
     "end_time": "2024-06-25T19:18:33.835919",
     "exception": false,
     "start_time": "2024-06-25T19:18:33.810406",
     "status": "completed"
    },
    "tags": []
   },
   "outputs": [
    {
     "data": {
      "text/html": [
       "<div>\n",
       "<style scoped>\n",
       "    .dataframe tbody tr th:only-of-type {\n",
       "        vertical-align: middle;\n",
       "    }\n",
       "\n",
       "    .dataframe tbody tr th {\n",
       "        vertical-align: top;\n",
       "    }\n",
       "\n",
       "    .dataframe thead th {\n",
       "        text-align: right;\n",
       "    }\n",
       "</style>\n",
       "<table border=\"1\" class=\"dataframe\">\n",
       "  <thead>\n",
       "    <tr style=\"text-align: right;\">\n",
       "      <th></th>\n",
       "      <th>neighbourhood_group</th>\n",
       "      <th>room_type</th>\n",
       "      <th>price</th>\n",
       "      <th>minimum_nights</th>\n",
       "      <th>availability_365</th>\n",
       "    </tr>\n",
       "  </thead>\n",
       "  <tbody>\n",
       "    <tr>\n",
       "      <th>0</th>\n",
       "      <td>Brooklyn</td>\n",
       "      <td>Private room</td>\n",
       "      <td>149</td>\n",
       "      <td>1</td>\n",
       "      <td>365</td>\n",
       "    </tr>\n",
       "    <tr>\n",
       "      <th>1</th>\n",
       "      <td>Manhattan</td>\n",
       "      <td>Entire home/apt</td>\n",
       "      <td>225</td>\n",
       "      <td>1</td>\n",
       "      <td>355</td>\n",
       "    </tr>\n",
       "    <tr>\n",
       "      <th>2</th>\n",
       "      <td>Manhattan</td>\n",
       "      <td>Private room</td>\n",
       "      <td>150</td>\n",
       "      <td>3</td>\n",
       "      <td>365</td>\n",
       "    </tr>\n",
       "    <tr>\n",
       "      <th>3</th>\n",
       "      <td>Brooklyn</td>\n",
       "      <td>Entire home/apt</td>\n",
       "      <td>89</td>\n",
       "      <td>1</td>\n",
       "      <td>194</td>\n",
       "    </tr>\n",
       "    <tr>\n",
       "      <th>4</th>\n",
       "      <td>Manhattan</td>\n",
       "      <td>Entire home/apt</td>\n",
       "      <td>80</td>\n",
       "      <td>10</td>\n",
       "      <td>0</td>\n",
       "    </tr>\n",
       "  </tbody>\n",
       "</table>\n",
       "</div>"
      ],
      "text/plain": [
       "  neighbourhood_group        room_type  price  minimum_nights  \\\n",
       "0            Brooklyn     Private room    149               1   \n",
       "1           Manhattan  Entire home/apt    225               1   \n",
       "2           Manhattan     Private room    150               3   \n",
       "3            Brooklyn  Entire home/apt     89               1   \n",
       "4           Manhattan  Entire home/apt     80              10   \n",
       "\n",
       "   availability_365  \n",
       "0               365  \n",
       "1               355  \n",
       "2               365  \n",
       "3               194  \n",
       "4                 0  "
      ]
     },
     "execution_count": 9,
     "metadata": {},
     "output_type": "execute_result"
    }
   ],
   "source": [
    "df.head(5)"
   ]
  },
  {
   "cell_type": "code",
   "execution_count": 10,
   "id": "5542c7cb",
   "metadata": {
    "execution": {
     "iopub.execute_input": "2024-06-25T19:18:33.856601Z",
     "iopub.status.busy": "2024-06-25T19:18:33.856180Z",
     "iopub.status.idle": "2024-06-25T19:18:33.874964Z",
     "shell.execute_reply": "2024-06-25T19:18:33.873866Z"
    },
    "papermill": {
     "duration": 0.032111,
     "end_time": "2024-06-25T19:18:33.877516",
     "exception": false,
     "start_time": "2024-06-25T19:18:33.845405",
     "status": "completed"
    },
    "tags": []
   },
   "outputs": [
    {
     "data": {
      "text/plain": [
       "neighbourhood_group      5\n",
       "room_type                3\n",
       "price                  674\n",
       "minimum_nights         109\n",
       "availability_365       366\n",
       "dtype: int64"
      ]
     },
     "execution_count": 10,
     "metadata": {},
     "output_type": "execute_result"
    }
   ],
   "source": [
    "df.nunique()"
   ]
  },
  {
   "cell_type": "code",
   "execution_count": 11,
   "id": "a6ddbb05",
   "metadata": {
    "execution": {
     "iopub.execute_input": "2024-06-25T19:18:33.900141Z",
     "iopub.status.busy": "2024-06-25T19:18:33.899721Z",
     "iopub.status.idle": "2024-06-25T19:18:33.919987Z",
     "shell.execute_reply": "2024-06-25T19:18:33.919005Z"
    },
    "papermill": {
     "duration": 0.035156,
     "end_time": "2024-06-25T19:18:33.922528",
     "exception": false,
     "start_time": "2024-06-25T19:18:33.887372",
     "status": "completed"
    },
    "tags": []
   },
   "outputs": [
    {
     "data": {
      "text/plain": [
       "neighbourhood_group    0\n",
       "room_type              0\n",
       "price                  0\n",
       "minimum_nights         0\n",
       "availability_365       0\n",
       "dtype: int64"
      ]
     },
     "execution_count": 11,
     "metadata": {},
     "output_type": "execute_result"
    }
   ],
   "source": [
    "df.isnull().sum()"
   ]
  },
  {
   "cell_type": "code",
   "execution_count": 12,
   "id": "777d0bff",
   "metadata": {
    "execution": {
     "iopub.execute_input": "2024-06-25T19:18:33.944251Z",
     "iopub.status.busy": "2024-06-25T19:18:33.943825Z",
     "iopub.status.idle": "2024-06-25T19:18:33.955197Z",
     "shell.execute_reply": "2024-06-25T19:18:33.954137Z"
    },
    "papermill": {
     "duration": 0.024954,
     "end_time": "2024-06-25T19:18:33.957620",
     "exception": false,
     "start_time": "2024-06-25T19:18:33.932666",
     "status": "completed"
    },
    "tags": []
   },
   "outputs": [
    {
     "data": {
      "text/plain": [
       "array(['Brooklyn', 'Manhattan', 'Queens', 'Staten Island', 'Bronx'],\n",
       "      dtype=object)"
      ]
     },
     "execution_count": 12,
     "metadata": {},
     "output_type": "execute_result"
    }
   ],
   "source": [
    "df['neighbourhood_group'].unique()"
   ]
  },
  {
   "cell_type": "code",
   "execution_count": 13,
   "id": "047f9112",
   "metadata": {
    "execution": {
     "iopub.execute_input": "2024-06-25T19:18:33.980071Z",
     "iopub.status.busy": "2024-06-25T19:18:33.979686Z",
     "iopub.status.idle": "2024-06-25T19:18:34.007509Z",
     "shell.execute_reply": "2024-06-25T19:18:34.006229Z"
    },
    "papermill": {
     "duration": 0.042551,
     "end_time": "2024-06-25T19:18:34.010771",
     "exception": false,
     "start_time": "2024-06-25T19:18:33.968220",
     "status": "completed"
    },
    "tags": []
   },
   "outputs": [
    {
     "data": {
      "text/html": [
       "<div>\n",
       "<style scoped>\n",
       "    .dataframe tbody tr th:only-of-type {\n",
       "        vertical-align: middle;\n",
       "    }\n",
       "\n",
       "    .dataframe tbody tr th {\n",
       "        vertical-align: top;\n",
       "    }\n",
       "\n",
       "    .dataframe thead th {\n",
       "        text-align: right;\n",
       "    }\n",
       "</style>\n",
       "<table border=\"1\" class=\"dataframe\">\n",
       "  <thead>\n",
       "    <tr style=\"text-align: right;\">\n",
       "      <th></th>\n",
       "      <th>neighbourhood_group</th>\n",
       "      <th>room_type</th>\n",
       "      <th>price</th>\n",
       "      <th>minimum_nights</th>\n",
       "      <th>availability_365</th>\n",
       "    </tr>\n",
       "  </thead>\n",
       "  <tbody>\n",
       "    <tr>\n",
       "      <th>0</th>\n",
       "      <td>Brooklyn</td>\n",
       "      <td>Private room</td>\n",
       "      <td>149</td>\n",
       "      <td>1</td>\n",
       "      <td>365</td>\n",
       "    </tr>\n",
       "    <tr>\n",
       "      <th>1</th>\n",
       "      <td>Brooklyn</td>\n",
       "      <td>Entire home/apt</td>\n",
       "      <td>89</td>\n",
       "      <td>1</td>\n",
       "      <td>194</td>\n",
       "    </tr>\n",
       "    <tr>\n",
       "      <th>2</th>\n",
       "      <td>Brooklyn</td>\n",
       "      <td>Private room</td>\n",
       "      <td>60</td>\n",
       "      <td>45</td>\n",
       "      <td>0</td>\n",
       "    </tr>\n",
       "    <tr>\n",
       "      <th>3</th>\n",
       "      <td>Brooklyn</td>\n",
       "      <td>Private room</td>\n",
       "      <td>89</td>\n",
       "      <td>4</td>\n",
       "      <td>314</td>\n",
       "    </tr>\n",
       "    <tr>\n",
       "      <th>4</th>\n",
       "      <td>Brooklyn</td>\n",
       "      <td>Entire home/apt</td>\n",
       "      <td>140</td>\n",
       "      <td>2</td>\n",
       "      <td>46</td>\n",
       "    </tr>\n",
       "  </tbody>\n",
       "</table>\n",
       "</div>"
      ],
      "text/plain": [
       "  neighbourhood_group        room_type  price  minimum_nights  \\\n",
       "0            Brooklyn     Private room    149               1   \n",
       "1            Brooklyn  Entire home/apt     89               1   \n",
       "2            Brooklyn     Private room     60              45   \n",
       "3            Brooklyn     Private room     89               4   \n",
       "4            Brooklyn  Entire home/apt    140               2   \n",
       "\n",
       "   availability_365  \n",
       "0               365  \n",
       "1               194  \n",
       "2                 0  \n",
       "3               314  \n",
       "4                46  "
      ]
     },
     "execution_count": 13,
     "metadata": {},
     "output_type": "execute_result"
    }
   ],
   "source": [
    "df_Brooklyn = df[(df['neighbourhood_group'] == 'Brooklyn')]\n",
    "df_Brooklyn.reset_index(drop=True, inplace=True)\n",
    "df_Brooklyn.head(5)"
   ]
  },
  {
   "cell_type": "code",
   "execution_count": 14,
   "id": "75308a45",
   "metadata": {
    "execution": {
     "iopub.execute_input": "2024-06-25T19:18:34.034151Z",
     "iopub.status.busy": "2024-06-25T19:18:34.033722Z",
     "iopub.status.idle": "2024-06-25T19:18:34.058462Z",
     "shell.execute_reply": "2024-06-25T19:18:34.057277Z"
    },
    "papermill": {
     "duration": 0.039455,
     "end_time": "2024-06-25T19:18:34.061220",
     "exception": false,
     "start_time": "2024-06-25T19:18:34.021765",
     "status": "completed"
    },
    "tags": []
   },
   "outputs": [
    {
     "data": {
      "text/html": [
       "<div>\n",
       "<style scoped>\n",
       "    .dataframe tbody tr th:only-of-type {\n",
       "        vertical-align: middle;\n",
       "    }\n",
       "\n",
       "    .dataframe tbody tr th {\n",
       "        vertical-align: top;\n",
       "    }\n",
       "\n",
       "    .dataframe thead th {\n",
       "        text-align: right;\n",
       "    }\n",
       "</style>\n",
       "<table border=\"1\" class=\"dataframe\">\n",
       "  <thead>\n",
       "    <tr style=\"text-align: right;\">\n",
       "      <th></th>\n",
       "      <th>neighbourhood_group</th>\n",
       "      <th>room_type</th>\n",
       "      <th>price</th>\n",
       "      <th>minimum_nights</th>\n",
       "      <th>availability_365</th>\n",
       "    </tr>\n",
       "  </thead>\n",
       "  <tbody>\n",
       "    <tr>\n",
       "      <th>0</th>\n",
       "      <td>Manhattan</td>\n",
       "      <td>Entire home/apt</td>\n",
       "      <td>225</td>\n",
       "      <td>1</td>\n",
       "      <td>355</td>\n",
       "    </tr>\n",
       "    <tr>\n",
       "      <th>1</th>\n",
       "      <td>Manhattan</td>\n",
       "      <td>Private room</td>\n",
       "      <td>150</td>\n",
       "      <td>3</td>\n",
       "      <td>365</td>\n",
       "    </tr>\n",
       "    <tr>\n",
       "      <th>2</th>\n",
       "      <td>Manhattan</td>\n",
       "      <td>Entire home/apt</td>\n",
       "      <td>80</td>\n",
       "      <td>10</td>\n",
       "      <td>0</td>\n",
       "    </tr>\n",
       "    <tr>\n",
       "      <th>3</th>\n",
       "      <td>Manhattan</td>\n",
       "      <td>Entire home/apt</td>\n",
       "      <td>200</td>\n",
       "      <td>3</td>\n",
       "      <td>129</td>\n",
       "    </tr>\n",
       "    <tr>\n",
       "      <th>4</th>\n",
       "      <td>Manhattan</td>\n",
       "      <td>Private room</td>\n",
       "      <td>79</td>\n",
       "      <td>2</td>\n",
       "      <td>220</td>\n",
       "    </tr>\n",
       "  </tbody>\n",
       "</table>\n",
       "</div>"
      ],
      "text/plain": [
       "  neighbourhood_group        room_type  price  minimum_nights  \\\n",
       "0           Manhattan  Entire home/apt    225               1   \n",
       "1           Manhattan     Private room    150               3   \n",
       "2           Manhattan  Entire home/apt     80              10   \n",
       "3           Manhattan  Entire home/apt    200               3   \n",
       "4           Manhattan     Private room     79               2   \n",
       "\n",
       "   availability_365  \n",
       "0               355  \n",
       "1               365  \n",
       "2                 0  \n",
       "3               129  \n",
       "4               220  "
      ]
     },
     "execution_count": 14,
     "metadata": {},
     "output_type": "execute_result"
    }
   ],
   "source": [
    "df_Manhattan = df[(df['neighbourhood_group'] == 'Manhattan')]\n",
    "df_Manhattan.reset_index(drop=True, inplace=True)\n",
    "df_Manhattan.head(5)"
   ]
  },
  {
   "cell_type": "code",
   "execution_count": 15,
   "id": "a3831e9c",
   "metadata": {
    "execution": {
     "iopub.execute_input": "2024-06-25T19:18:34.084458Z",
     "iopub.status.busy": "2024-06-25T19:18:34.084019Z",
     "iopub.status.idle": "2024-06-25T19:18:34.108091Z",
     "shell.execute_reply": "2024-06-25T19:18:34.106971Z"
    },
    "papermill": {
     "duration": 0.038825,
     "end_time": "2024-06-25T19:18:34.110811",
     "exception": false,
     "start_time": "2024-06-25T19:18:34.071986",
     "status": "completed"
    },
    "tags": []
   },
   "outputs": [
    {
     "data": {
      "text/html": [
       "<div>\n",
       "<style scoped>\n",
       "    .dataframe tbody tr th:only-of-type {\n",
       "        vertical-align: middle;\n",
       "    }\n",
       "\n",
       "    .dataframe tbody tr th {\n",
       "        vertical-align: top;\n",
       "    }\n",
       "\n",
       "    .dataframe thead th {\n",
       "        text-align: right;\n",
       "    }\n",
       "</style>\n",
       "<table border=\"1\" class=\"dataframe\">\n",
       "  <thead>\n",
       "    <tr style=\"text-align: right;\">\n",
       "      <th></th>\n",
       "      <th>neighbourhood_group</th>\n",
       "      <th>room_type</th>\n",
       "      <th>price</th>\n",
       "      <th>minimum_nights</th>\n",
       "      <th>availability_365</th>\n",
       "    </tr>\n",
       "  </thead>\n",
       "  <tbody>\n",
       "    <tr>\n",
       "      <th>0</th>\n",
       "      <td>Queens</td>\n",
       "      <td>Private room</td>\n",
       "      <td>130</td>\n",
       "      <td>3</td>\n",
       "      <td>215</td>\n",
       "    </tr>\n",
       "    <tr>\n",
       "      <th>1</th>\n",
       "      <td>Queens</td>\n",
       "      <td>Private room</td>\n",
       "      <td>70</td>\n",
       "      <td>30</td>\n",
       "      <td>324</td>\n",
       "    </tr>\n",
       "    <tr>\n",
       "      <th>2</th>\n",
       "      <td>Queens</td>\n",
       "      <td>Private room</td>\n",
       "      <td>140</td>\n",
       "      <td>2</td>\n",
       "      <td>1</td>\n",
       "    </tr>\n",
       "    <tr>\n",
       "      <th>3</th>\n",
       "      <td>Queens</td>\n",
       "      <td>Private room</td>\n",
       "      <td>79</td>\n",
       "      <td>30</td>\n",
       "      <td>126</td>\n",
       "    </tr>\n",
       "    <tr>\n",
       "      <th>4</th>\n",
       "      <td>Queens</td>\n",
       "      <td>Entire home/apt</td>\n",
       "      <td>350</td>\n",
       "      <td>8</td>\n",
       "      <td>365</td>\n",
       "    </tr>\n",
       "  </tbody>\n",
       "</table>\n",
       "</div>"
      ],
      "text/plain": [
       "  neighbourhood_group        room_type  price  minimum_nights  \\\n",
       "0              Queens     Private room    130               3   \n",
       "1              Queens     Private room     70              30   \n",
       "2              Queens     Private room    140               2   \n",
       "3              Queens     Private room     79              30   \n",
       "4              Queens  Entire home/apt    350               8   \n",
       "\n",
       "   availability_365  \n",
       "0               215  \n",
       "1               324  \n",
       "2                 1  \n",
       "3               126  \n",
       "4               365  "
      ]
     },
     "execution_count": 15,
     "metadata": {},
     "output_type": "execute_result"
    }
   ],
   "source": [
    "df_Queens = df[(df['neighbourhood_group'] == 'Queens')]\n",
    "df_Queens.reset_index(drop=True, inplace=True)\n",
    "df_Queens.head(5)"
   ]
  },
  {
   "cell_type": "code",
   "execution_count": 16,
   "id": "7ea4bfb4",
   "metadata": {
    "execution": {
     "iopub.execute_input": "2024-06-25T19:18:34.134325Z",
     "iopub.status.busy": "2024-06-25T19:18:34.133916Z",
     "iopub.status.idle": "2024-06-25T19:18:34.157116Z",
     "shell.execute_reply": "2024-06-25T19:18:34.155938Z"
    },
    "papermill": {
     "duration": 0.037765,
     "end_time": "2024-06-25T19:18:34.159471",
     "exception": false,
     "start_time": "2024-06-25T19:18:34.121706",
     "status": "completed"
    },
    "tags": []
   },
   "outputs": [
    {
     "data": {
      "text/html": [
       "<div>\n",
       "<style scoped>\n",
       "    .dataframe tbody tr th:only-of-type {\n",
       "        vertical-align: middle;\n",
       "    }\n",
       "\n",
       "    .dataframe tbody tr th {\n",
       "        vertical-align: top;\n",
       "    }\n",
       "\n",
       "    .dataframe thead th {\n",
       "        text-align: right;\n",
       "    }\n",
       "</style>\n",
       "<table border=\"1\" class=\"dataframe\">\n",
       "  <thead>\n",
       "    <tr style=\"text-align: right;\">\n",
       "      <th></th>\n",
       "      <th>neighbourhood_group</th>\n",
       "      <th>room_type</th>\n",
       "      <th>price</th>\n",
       "      <th>minimum_nights</th>\n",
       "      <th>availability_365</th>\n",
       "    </tr>\n",
       "  </thead>\n",
       "  <tbody>\n",
       "    <tr>\n",
       "      <th>0</th>\n",
       "      <td>Staten Island</td>\n",
       "      <td>Private room</td>\n",
       "      <td>70</td>\n",
       "      <td>2</td>\n",
       "      <td>312</td>\n",
       "    </tr>\n",
       "    <tr>\n",
       "      <th>1</th>\n",
       "      <td>Staten Island</td>\n",
       "      <td>Private room</td>\n",
       "      <td>36</td>\n",
       "      <td>2</td>\n",
       "      <td>360</td>\n",
       "    </tr>\n",
       "    <tr>\n",
       "      <th>2</th>\n",
       "      <td>Staten Island</td>\n",
       "      <td>Private room</td>\n",
       "      <td>37</td>\n",
       "      <td>2</td>\n",
       "      <td>0</td>\n",
       "    </tr>\n",
       "    <tr>\n",
       "      <th>3</th>\n",
       "      <td>Staten Island</td>\n",
       "      <td>Private room</td>\n",
       "      <td>37</td>\n",
       "      <td>2</td>\n",
       "      <td>320</td>\n",
       "    </tr>\n",
       "    <tr>\n",
       "      <th>4</th>\n",
       "      <td>Staten Island</td>\n",
       "      <td>Private room</td>\n",
       "      <td>36</td>\n",
       "      <td>2</td>\n",
       "      <td>340</td>\n",
       "    </tr>\n",
       "  </tbody>\n",
       "</table>\n",
       "</div>"
      ],
      "text/plain": [
       "  neighbourhood_group     room_type  price  minimum_nights  availability_365\n",
       "0       Staten Island  Private room     70               2               312\n",
       "1       Staten Island  Private room     36               2               360\n",
       "2       Staten Island  Private room     37               2                 0\n",
       "3       Staten Island  Private room     37               2               320\n",
       "4       Staten Island  Private room     36               2               340"
      ]
     },
     "execution_count": 16,
     "metadata": {},
     "output_type": "execute_result"
    }
   ],
   "source": [
    "df_StatenIsland = df[(df['neighbourhood_group'] == 'Staten Island')]\n",
    "df_StatenIsland.reset_index(drop=True, inplace=True)\n",
    "df_StatenIsland.head(5)"
   ]
  },
  {
   "cell_type": "code",
   "execution_count": 17,
   "id": "b8bc99d6",
   "metadata": {
    "execution": {
     "iopub.execute_input": "2024-06-25T19:18:34.183517Z",
     "iopub.status.busy": "2024-06-25T19:18:34.183100Z",
     "iopub.status.idle": "2024-06-25T19:18:34.206249Z",
     "shell.execute_reply": "2024-06-25T19:18:34.205183Z"
    },
    "papermill": {
     "duration": 0.038214,
     "end_time": "2024-06-25T19:18:34.208853",
     "exception": false,
     "start_time": "2024-06-25T19:18:34.170639",
     "status": "completed"
    },
    "tags": []
   },
   "outputs": [
    {
     "data": {
      "text/html": [
       "<div>\n",
       "<style scoped>\n",
       "    .dataframe tbody tr th:only-of-type {\n",
       "        vertical-align: middle;\n",
       "    }\n",
       "\n",
       "    .dataframe tbody tr th {\n",
       "        vertical-align: top;\n",
       "    }\n",
       "\n",
       "    .dataframe thead th {\n",
       "        text-align: right;\n",
       "    }\n",
       "</style>\n",
       "<table border=\"1\" class=\"dataframe\">\n",
       "  <thead>\n",
       "    <tr style=\"text-align: right;\">\n",
       "      <th></th>\n",
       "      <th>neighbourhood_group</th>\n",
       "      <th>room_type</th>\n",
       "      <th>price</th>\n",
       "      <th>minimum_nights</th>\n",
       "      <th>availability_365</th>\n",
       "    </tr>\n",
       "  </thead>\n",
       "  <tbody>\n",
       "    <tr>\n",
       "      <th>0</th>\n",
       "      <td>Bronx</td>\n",
       "      <td>Private room</td>\n",
       "      <td>40</td>\n",
       "      <td>1</td>\n",
       "      <td>353</td>\n",
       "    </tr>\n",
       "    <tr>\n",
       "      <th>1</th>\n",
       "      <td>Bronx</td>\n",
       "      <td>Private room</td>\n",
       "      <td>45</td>\n",
       "      <td>1</td>\n",
       "      <td>323</td>\n",
       "    </tr>\n",
       "    <tr>\n",
       "      <th>2</th>\n",
       "      <td>Bronx</td>\n",
       "      <td>Private room</td>\n",
       "      <td>90</td>\n",
       "      <td>2</td>\n",
       "      <td>349</td>\n",
       "    </tr>\n",
       "    <tr>\n",
       "      <th>3</th>\n",
       "      <td>Bronx</td>\n",
       "      <td>Entire home/apt</td>\n",
       "      <td>105</td>\n",
       "      <td>2</td>\n",
       "      <td>365</td>\n",
       "    </tr>\n",
       "    <tr>\n",
       "      <th>4</th>\n",
       "      <td>Bronx</td>\n",
       "      <td>Entire home/apt</td>\n",
       "      <td>90</td>\n",
       "      <td>30</td>\n",
       "      <td>346</td>\n",
       "    </tr>\n",
       "  </tbody>\n",
       "</table>\n",
       "</div>"
      ],
      "text/plain": [
       "  neighbourhood_group        room_type  price  minimum_nights  \\\n",
       "0               Bronx     Private room     40               1   \n",
       "1               Bronx     Private room     45               1   \n",
       "2               Bronx     Private room     90               2   \n",
       "3               Bronx  Entire home/apt    105               2   \n",
       "4               Bronx  Entire home/apt     90              30   \n",
       "\n",
       "   availability_365  \n",
       "0               353  \n",
       "1               323  \n",
       "2               349  \n",
       "3               365  \n",
       "4               346  "
      ]
     },
     "execution_count": 17,
     "metadata": {},
     "output_type": "execute_result"
    }
   ],
   "source": [
    "df_Bronx = df[(df['neighbourhood_group'] == 'Bronx')]\n",
    "df_Bronx.reset_index(drop=True, inplace=True)\n",
    "df_Bronx.head(5)"
   ]
  },
  {
   "cell_type": "code",
   "execution_count": 18,
   "id": "9c0e3bde",
   "metadata": {
    "execution": {
     "iopub.execute_input": "2024-06-25T19:18:34.233859Z",
     "iopub.status.busy": "2024-06-25T19:18:34.233162Z",
     "iopub.status.idle": "2024-06-25T19:18:34.405180Z",
     "shell.execute_reply": "2024-06-25T19:18:34.404065Z"
    },
    "papermill": {
     "duration": 0.187573,
     "end_time": "2024-06-25T19:18:34.407908",
     "exception": false,
     "start_time": "2024-06-25T19:18:34.220335",
     "status": "completed"
    },
    "tags": []
   },
   "outputs": [],
   "source": [
    "df_Brooklyn.to_csv('Brooklyn.csv', index = False)\n",
    "df_Manhattan.to_csv('Manhattan.csv', index = False)\n",
    "df_Queens.to_csv('Queens.csv', index = False)\n",
    "df_StatenIsland.to_csv('StatenIsland.csv', index = False)\n",
    "df_Bronx.to_csv('Bronx.csv', index = False)"
   ]
  },
  {
   "cell_type": "markdown",
   "id": "f4ae889f",
   "metadata": {
    "papermill": {
     "duration": 0.01092,
     "end_time": "2024-06-25T19:18:34.430182",
     "exception": false,
     "start_time": "2024-06-25T19:18:34.419262",
     "status": "completed"
    },
    "tags": []
   },
   "source": [
    "# Visualization"
   ]
  },
  {
   "cell_type": "code",
   "execution_count": 19,
   "id": "7e9b45b2",
   "metadata": {
    "execution": {
     "iopub.execute_input": "2024-06-25T19:18:34.454373Z",
     "iopub.status.busy": "2024-06-25T19:18:34.453973Z",
     "iopub.status.idle": "2024-06-25T19:18:34.458971Z",
     "shell.execute_reply": "2024-06-25T19:18:34.457905Z"
    },
    "papermill": {
     "duration": 0.020058,
     "end_time": "2024-06-25T19:18:34.461570",
     "exception": false,
     "start_time": "2024-06-25T19:18:34.441512",
     "status": "completed"
    },
    "tags": []
   },
   "outputs": [],
   "source": [
    "import matplotlib.pyplot as plt"
   ]
  },
  {
   "cell_type": "code",
   "execution_count": 20,
   "id": "8d903023",
   "metadata": {
    "execution": {
     "iopub.execute_input": "2024-06-25T19:18:34.485720Z",
     "iopub.status.busy": "2024-06-25T19:18:34.485289Z",
     "iopub.status.idle": "2024-06-25T19:18:34.497611Z",
     "shell.execute_reply": "2024-06-25T19:18:34.496434Z"
    },
    "papermill": {
     "duration": 0.027114,
     "end_time": "2024-06-25T19:18:34.499888",
     "exception": false,
     "start_time": "2024-06-25T19:18:34.472774",
     "status": "completed"
    },
    "tags": []
   },
   "outputs": [
    {
     "data": {
      "text/html": [
       "<div>\n",
       "<style scoped>\n",
       "    .dataframe tbody tr th:only-of-type {\n",
       "        vertical-align: middle;\n",
       "    }\n",
       "\n",
       "    .dataframe tbody tr th {\n",
       "        vertical-align: top;\n",
       "    }\n",
       "\n",
       "    .dataframe thead th {\n",
       "        text-align: right;\n",
       "    }\n",
       "</style>\n",
       "<table border=\"1\" class=\"dataframe\">\n",
       "  <thead>\n",
       "    <tr style=\"text-align: right;\">\n",
       "      <th></th>\n",
       "      <th>neighbourhood_group</th>\n",
       "      <th>room_type</th>\n",
       "      <th>price</th>\n",
       "      <th>minimum_nights</th>\n",
       "      <th>availability_365</th>\n",
       "    </tr>\n",
       "  </thead>\n",
       "  <tbody>\n",
       "    <tr>\n",
       "      <th>0</th>\n",
       "      <td>Brooklyn</td>\n",
       "      <td>Private room</td>\n",
       "      <td>149</td>\n",
       "      <td>1</td>\n",
       "      <td>365</td>\n",
       "    </tr>\n",
       "    <tr>\n",
       "      <th>1</th>\n",
       "      <td>Manhattan</td>\n",
       "      <td>Entire home/apt</td>\n",
       "      <td>225</td>\n",
       "      <td>1</td>\n",
       "      <td>355</td>\n",
       "    </tr>\n",
       "    <tr>\n",
       "      <th>2</th>\n",
       "      <td>Manhattan</td>\n",
       "      <td>Private room</td>\n",
       "      <td>150</td>\n",
       "      <td>3</td>\n",
       "      <td>365</td>\n",
       "    </tr>\n",
       "    <tr>\n",
       "      <th>3</th>\n",
       "      <td>Brooklyn</td>\n",
       "      <td>Entire home/apt</td>\n",
       "      <td>89</td>\n",
       "      <td>1</td>\n",
       "      <td>194</td>\n",
       "    </tr>\n",
       "    <tr>\n",
       "      <th>4</th>\n",
       "      <td>Manhattan</td>\n",
       "      <td>Entire home/apt</td>\n",
       "      <td>80</td>\n",
       "      <td>10</td>\n",
       "      <td>0</td>\n",
       "    </tr>\n",
       "  </tbody>\n",
       "</table>\n",
       "</div>"
      ],
      "text/plain": [
       "  neighbourhood_group        room_type  price  minimum_nights  \\\n",
       "0            Brooklyn     Private room    149               1   \n",
       "1           Manhattan  Entire home/apt    225               1   \n",
       "2           Manhattan     Private room    150               3   \n",
       "3            Brooklyn  Entire home/apt     89               1   \n",
       "4           Manhattan  Entire home/apt     80              10   \n",
       "\n",
       "   availability_365  \n",
       "0               365  \n",
       "1               355  \n",
       "2               365  \n",
       "3               194  \n",
       "4                 0  "
      ]
     },
     "execution_count": 20,
     "metadata": {},
     "output_type": "execute_result"
    }
   ],
   "source": [
    "df.head(5)"
   ]
  },
  {
   "cell_type": "code",
   "execution_count": 21,
   "id": "37fe5a10",
   "metadata": {
    "execution": {
     "iopub.execute_input": "2024-06-25T19:18:34.525127Z",
     "iopub.status.busy": "2024-06-25T19:18:34.524305Z",
     "iopub.status.idle": "2024-06-25T19:18:35.055074Z",
     "shell.execute_reply": "2024-06-25T19:18:35.053869Z"
    },
    "papermill": {
     "duration": 0.54621,
     "end_time": "2024-06-25T19:18:35.057618",
     "exception": false,
     "start_time": "2024-06-25T19:18:34.511408",
     "status": "completed"
    },
    "tags": []
   },
   "outputs": [
    {
     "data": {
      "text/plain": [
       "<matplotlib.collections.PathCollection at 0x7c050d9c2a10>"
      ]
     },
     "execution_count": 21,
     "metadata": {},
     "output_type": "execute_result"
    },
    {
     "data": {
      "image/png": "[encoded data removed]",
      "text/plain": [
       "<Figure size 640x480 with 1 Axes>"
      ]
     },
     "metadata": {},
     "output_type": "display_data"
    }
   ],
   "source": [
    "plt.scatter(df[\"neighbourhood_group\"], df[\"price\"])"
   ]
  },
  {
   "cell_type": "code",
   "execution_count": 22,
   "id": "d05123bb",
   "metadata": {
    "execution": {
     "iopub.execute_input": "2024-06-25T19:18:35.084251Z",
     "iopub.status.busy": "2024-06-25T19:18:35.083732Z",
     "iopub.status.idle": "2024-06-25T19:18:35.428324Z",
     "shell.execute_reply": "2024-06-25T19:18:35.427239Z"
    },
    "papermill": {
     "duration": 0.36103,
     "end_time": "2024-06-25T19:18:35.430917",
     "exception": false,
     "start_time": "2024-06-25T19:18:35.069887",
     "status": "completed"
    },
    "tags": []
   },
   "outputs": [
    {
     "data": {
      "text/plain": [
       "<matplotlib.collections.PathCollection at 0x7c050d965930>"
      ]
     },
     "execution_count": 22,
     "metadata": {},
     "output_type": "execute_result"
    },
    {
     "data": {
      "image/png": "[encoded data removed]",
      "text/plain": [
       "<Figure size 640x480 with 1 Axes>"
      ]
     },
     "metadata": {},
     "output_type": "display_data"
    }
   ],
   "source": [
    "plt.scatter(df_Brooklyn[\"room_type\"], df_Brooklyn[\"price\"])"
   ]
  },
  {
   "cell_type": "code",
   "execution_count": 23,
   "id": "aee59b6a",
   "metadata": {
    "execution": {
     "iopub.execute_input": "2024-06-25T19:18:35.459017Z",
     "iopub.status.busy": "2024-06-25T19:18:35.457914Z",
     "iopub.status.idle": "2024-06-25T19:18:35.828657Z",
     "shell.execute_reply": "2024-06-25T19:18:35.827494Z"
    },
    "papermill": {
     "duration": 0.387753,
     "end_time": "2024-06-25T19:18:35.831446",
     "exception": false,
     "start_time": "2024-06-25T19:18:35.443693",
     "status": "completed"
    },
    "tags": []
   },
   "outputs": [
    {
     "data": {
      "text/plain": [
       "<matplotlib.collections.PathCollection at 0x7c050ee9a2c0>"
      ]
     },
     "execution_count": 23,
     "metadata": {},
     "output_type": "execute_result"
    },
    {
     "data": {
      "image/png": "[encoded data removed]",
      "text/plain": [
       "<Figure size 640x480 with 1 Axes>"
      ]
     },
     "metadata": {},
     "output_type": "display_data"
    }
   ],
   "source": [
    "plt.scatter(df_Brooklyn[\"minimum_nights\"], df_Brooklyn[\"price\"])"
   ]
  },
  {
   "cell_type": "code",
   "execution_count": null,
   "id": "a926d193",
   "metadata": {
    "papermill": {
     "duration": 0.013018,
     "end_time": "2024-06-25T19:18:35.857867",
     "exception": false,
     "start_time": "2024-06-25T19:18:35.844849",
     "status": "completed"
    },
    "tags": []
   },
   "outputs": [],
   "source": []
  }
 ],
 "metadata": {
  "interpreter": {
   "hash": "aee8b7b246df8f9039afb4144a1f6fd8d2ca17a180786b69acc140d282b71a49"
  },
  "kaggle": {
   "accelerator": "none",
   "dataSources": [
    {
     "datasetId": 268833,
     "sourceId": 611395,
     "sourceType": "datasetVersion"
    }
   ],
   "dockerImageVersionId": 30732,
   "isGpuEnabled": false,
   "isInternetEnabled": true,
   "language": "python",
   "sourceType": "notebook"
  },
  "kernelspec": {
   "display_name": "Python 3.10.11 64-bit",
   "language": "python",
   "name": "python3"
  },
  "language_info": {
   "codemirror_mode": {
    "name": "ipython",
    "version": 3
   },
   "file_extension": ".py",
   "mimetype": "text/x-python",
   "name": "python",
   "nbconvert_exporter": "python",
   "pygments_lexer": "ipython3",
   "version": "3.10.11"
  },
  "papermill": {
   "default_parameters": {},
   "duration": 7.483373,
   "end_time": "2024-06-25T19:18:36.393129",
   "environment_variables": {},
   "exception": null,
   "input_path": "__notebook__.ipynb",
   "output_path": "__notebook__.ipynb",
   "parameters": {},
   "start_time": "2024-06-25T19:18:28.909756",
   "version": "2.5.0"
  }
 },
 "nbformat": 4,
 "nbformat_minor": 5
}
